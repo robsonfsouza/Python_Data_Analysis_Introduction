{
 "cells": [
  {
   "cell_type": "code",
   "execution_count": 1,
   "id": "e2882efb",
   "metadata": {},
   "outputs": [],
   "source": [
    "import numpy as np"
   ]
  },
  {
   "cell_type": "code",
   "execution_count": 2,
   "id": "6dff47de",
   "metadata": {},
   "outputs": [
    {
     "name": "stdout",
     "output_type": "stream",
     "text": [
      "CPU times: user 170 ms, sys: 215 ms, total: 386 ms\n",
      "Wall time: 388 ms\n"
     ]
    }
   ],
   "source": [
    "%%time\n",
    "a = np.arange(1,100000000)"
   ]
  },
  {
   "cell_type": "code",
   "execution_count": 3,
   "id": "aff5cd52",
   "metadata": {},
   "outputs": [
    {
     "name": "stdout",
     "output_type": "stream",
     "text": [
      "CPU times: user 1.98 s, sys: 1.17 s, total: 3.15 s\n",
      "Wall time: 3.16 s\n"
     ]
    }
   ],
   "source": [
    "%%time\n",
    "b = list(range(1,100000000))"
   ]
  },
  {
   "cell_type": "code",
   "execution_count": 4,
   "id": "32cc351b",
   "metadata": {},
   "outputs": [
    {
     "name": "stdout",
     "output_type": "stream",
     "text": [
      "CPU times: user 237 ms, sys: 232 ms, total: 469 ms\n",
      "Wall time: 487 ms\n"
     ]
    }
   ],
   "source": [
    "%%time\n",
    "c =  a**2"
   ]
  },
  {
   "cell_type": "code",
   "execution_count": 5,
   "id": "b7110225",
   "metadata": {},
   "outputs": [
    {
     "name": "stdout",
     "output_type": "stream",
     "text": [
      "CPU times: user 22.2 s, sys: 1.63 s, total: 23.9 s\n",
      "Wall time: 24 s\n",
      "Compiler : 847 ms\n"
     ]
    }
   ],
   "source": [
    "%%time\n",
    "d = [x**2 for x in a ]"
   ]
  },
  {
   "cell_type": "code",
   "execution_count": 14,
   "id": "eca244c8",
   "metadata": {},
   "outputs": [
    {
     "name": "stdout",
     "output_type": "stream",
     "text": [
      "CPU times: user 2.69 s, sys: 1.03 s, total: 3.73 s\n",
      "Wall time: 3.77 s\n"
     ]
    }
   ],
   "source": [
    "%%time \n",
    "e = np.where(a%2==0, a**2,a)"
   ]
  },
  {
   "cell_type": "code",
   "execution_count": 17,
   "id": "7bdf5137",
   "metadata": {},
   "outputs": [
    {
     "name": "stdout",
     "output_type": "stream",
     "text": [
      "CPU times: user 48.2 s, sys: 2.04 s, total: 50.3 s\n",
      "Wall time: 50.6 s\n"
     ]
    }
   ],
   "source": [
    "%%time \n",
    "f = [x**2 if x%2 ==0 else x for x in a ]"
   ]
  },
  {
   "cell_type": "code",
   "execution_count": null,
   "id": "fadcbf7d",
   "metadata": {},
   "outputs": [],
   "source": []
  }
 ],
 "metadata": {
  "kernelspec": {
   "display_name": "Python 3 (ipykernel)",
   "language": "python",
   "name": "python3"
  },
  "language_info": {
   "codemirror_mode": {
    "name": "ipython",
    "version": 3
   },
   "file_extension": ".py",
   "mimetype": "text/x-python",
   "name": "python",
   "nbconvert_exporter": "python",
   "pygments_lexer": "ipython3",
   "version": "3.9.6"
  }
 },
 "nbformat": 4,
 "nbformat_minor": 5
}
