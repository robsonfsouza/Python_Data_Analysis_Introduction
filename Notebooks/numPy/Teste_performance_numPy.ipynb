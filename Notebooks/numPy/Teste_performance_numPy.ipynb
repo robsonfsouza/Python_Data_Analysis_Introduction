{
 "cells": [
  {
   "cell_type": "code",
   "execution_count": 38,
   "id": "e2882efb",
   "metadata": {},
   "outputs": [],
   "source": [
    "import numpy as np"
   ]
  },
  {
   "cell_type": "code",
   "execution_count": 39,
   "id": "6dff47de",
   "metadata": {},
   "outputs": [
    {
     "name": "stdout",
     "output_type": "stream",
     "text": [
      "CPU times: user 188 ms, sys: 284 ms, total: 472 ms\n",
      "Wall time: 531 ms\n"
     ]
    }
   ],
   "source": [
    "%%time\n",
    "a = np.arange(1,100000000)"
   ]
  },
  {
   "cell_type": "code",
   "execution_count": 40,
   "id": "aff5cd52",
   "metadata": {},
   "outputs": [
    {
     "name": "stdout",
     "output_type": "stream",
     "text": [
      "CPU times: user 2.37 s, sys: 1.48 s, total: 3.85 s\n",
      "Wall time: 3.78 s\n"
     ]
    }
   ],
   "source": [
    "%%time\n",
    "b = list(range(1,100000000))"
   ]
  },
  {
   "cell_type": "code",
   "execution_count": 41,
   "id": "32cc351b",
   "metadata": {},
   "outputs": [
    {
     "name": "stdout",
     "output_type": "stream",
     "text": [
      "CPU times: user 292 ms, sys: 906 ms, total: 1.2 s\n",
      "Wall time: 1.31 s\n"
     ]
    }
   ],
   "source": [
    "%%time\n",
    "c =  a**2"
   ]
  },
  {
   "cell_type": "code",
   "execution_count": 42,
   "id": "b7110225",
   "metadata": {},
   "outputs": [],
   "source": [
    "%%time\n",
    "d = [x**2 for x in a ]"
   ]
  },
  {
   "cell_type": "code",
   "execution_count": 43,
   "id": "eca244c8",
   "metadata": {},
   "outputs": [],
   "source": [
    "%%time \n",
    "e = np.where(a%2==0, a**2,a)"
   ]
  },
  {
   "cell_type": "code",
   "execution_count": 44,
   "id": "7bdf5137",
   "metadata": {},
   "outputs": [
    {
     "name": "stdout",
     "output_type": "stream",
     "text": [
      "CPU times: user 45 s, sys: 1.65 s, total: 46.7 s\n",
      "Wall time: 46.9 s\n"
     ]
    }
   ],
   "source": [
    "%%time \n",
    "f = [x**2 if x%2 ==0 else x for x in a ]"
   ]
  },
  {
   "cell_type": "code",
   "execution_count": null,
   "id": "344d1811",
   "metadata": {},
   "outputs": [],
   "source": []
  }
 ],
 "metadata": {
  "kernelspec": {
   "display_name": "Python 3 (ipykernel)",
   "language": "python",
   "name": "python3"
  },
  "language_info": {
   "codemirror_mode": {
    "name": "ipython",
    "version": 3
   },
   "file_extension": ".py",
   "mimetype": "text/x-python",
   "name": "python",
   "nbconvert_exporter": "python",
   "pygments_lexer": "ipython3",
   "version": "3.9.6"
  }
 },
 "nbformat": 4,
 "nbformat_minor": 5
}
